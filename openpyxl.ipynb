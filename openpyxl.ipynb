{
 "cells": [
  {
   "cell_type": "code",
   "execution_count": null,
   "id": "0babe7ae-ff47-4439-a3c0-c567e5bc8139",
   "metadata": {},
   "outputs": [],
   "source": [
    "#Automatizando Planilhas\n",
    "!pip install openpyxl\n",
    "import openpyxl\n",
    "\n",
    "#Criando planilha(book)\n",
    "book = openpyxl.Workbook()\n",
    "\n",
    "#Criando paginas\n",
    "book.create_sheet('Itens')\n",
    "\n",
    "#Selecionando Paginas\n",
    "itens_pages = book['Itens']\n",
    "\n",
    "#Adicionando Dados em linhas\n",
    "\n",
    "itens_pages.append(['Cod Item','Quantidade','Valor'])\n",
    "itens_pages.append(['DS123446','1000,00','576,00'])\n",
    "itens_pages.append(['DS123656','100,00','516,00'])\n",
    "itens_pages.append(['DS143456','10,00','57,00'])\n",
    "itens_pages.append(['DS124456','100,00','76,00'])\n",
    "itens_pages.append(['DS128456','1440,00','57,00'])\n",
    "itens_pages.append(['DS223456','1040,00','6,00'])\n",
    "\n",
    "book.save('Planilha de Itens.xlsx')\n",
    "\n",
    "#Acessando e inserindo dados\n",
    "\n",
    "book = openpyxl.load_workbook('Planilha de Itens.xlsx')\n",
    "itens_page = book['Itens']\n",
    "for rows in itens_page.iter_rows(min_row=2,max_row=7):\n",
    "    for cell in rows:\n",
    "        print(cell.value)"
   ]
  },
  {
   "cell_type": "code",
   "execution_count": 1,
   "id": "0321b2bf-56fb-4fe5-ae6c-4279b269f54b",
   "metadata": {},
   "outputs": [
    {
     "name": "stdout",
     "output_type": "stream",
     "text": [
      "Requirement already satisfied: openpyxl in c:\\users\\junior.8903\\appdata\\local\\anaconda3\\lib\\site-packages (3.1.2)\n",
      "Requirement already satisfied: et-xmlfile in c:\\users\\junior.8903\\appdata\\local\\anaconda3\\lib\\site-packages (from openpyxl) (1.1.0)\n"
     ]
    }
   ],
   "source": []
  }
 ],
 "metadata": {
  "kernelspec": {
   "display_name": "Python 3 (ipykernel)",
   "language": "python",
   "name": "python3"
  },
  "language_info": {
   "codemirror_mode": {
    "name": "ipython",
    "version": 3
   },
   "file_extension": ".py",
   "mimetype": "text/x-python",
   "name": "python",
   "nbconvert_exporter": "python",
   "pygments_lexer": "ipython3",
   "version": "3.12.4"
  }
 },
 "nbformat": 4,
 "nbformat_minor": 5
}
